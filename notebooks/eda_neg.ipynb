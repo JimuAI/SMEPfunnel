{
 "cells": [
  {
   "cell_type": "markdown",
   "metadata": {},
   "source": [
    "# 数据加载与概况分析"
   ]
  },
  {
   "cell_type": "code",
   "execution_count": 1,
   "metadata": {},
   "outputs": [],
   "source": [
    "# 导入必要的库\n",
    "import pandas as pd\n",
    "import matplotlib.pyplot as plt\n",
    "import seaborn as sns"
   ]
  },
  {
   "cell_type": "code",
   "execution_count": 3,
   "metadata": {},
   "outputs": [
    {
     "name": "stdout",
     "output_type": "stream",
     "text": [
      "数据前几行：\n"
     ]
    },
    {
     "data": {
      "text/html": [
       "<div>\n",
       "<style scoped>\n",
       "    .dataframe tbody tr th:only-of-type {\n",
       "        vertical-align: middle;\n",
       "    }\n",
       "\n",
       "    .dataframe tbody tr th {\n",
       "        vertical-align: top;\n",
       "    }\n",
       "\n",
       "    .dataframe thead th {\n",
       "        text-align: right;\n",
       "    }\n",
       "</style>\n",
       "<table border=\"1\" class=\"dataframe\">\n",
       "  <thead>\n",
       "    <tr style=\"text-align: right;\">\n",
       "      <th></th>\n",
       "      <th>Entry</th>\n",
       "      <th>Status</th>\n",
       "      <th>Protein names</th>\n",
       "      <th>Organism</th>\n",
       "      <th>Length</th>\n",
       "      <th>Keywords</th>\n",
       "      <th>Sequence</th>\n",
       "      <th>Features</th>\n",
       "    </tr>\n",
       "  </thead>\n",
       "  <tbody>\n",
       "    <tr>\n",
       "      <th>0</th>\n",
       "      <td>P0C2L1</td>\n",
       "      <td>reviewed</td>\n",
       "      <td>Dermonecrotic toxin LlSicTox-alphaIII-1 (EC 4....</td>\n",
       "      <td>Loxosceles laeta (South American recluse spide...</td>\n",
       "      <td>30</td>\n",
       "      <td>Cytolysis;Dermonecrotic toxin;Direct protein s...</td>\n",
       "      <td>ADNRRPIWNLGHMVNALKQIPTFLXDGANA</td>\n",
       "      <td>Active site (1); Chain (1); Non-terminal resid...</td>\n",
       "    </tr>\n",
       "    <tr>\n",
       "      <th>1</th>\n",
       "      <td>P67786</td>\n",
       "      <td>reviewed</td>\n",
       "      <td>Adipokinetic hormone (AKH) (RO II)</td>\n",
       "      <td>Romalea microptera (Eastern lubber grasshopper...</td>\n",
       "      <td>8</td>\n",
       "      <td>Amidation;Direct protein sequencing;Flight;Hor...</td>\n",
       "      <td>QVNFSTGW</td>\n",
       "      <td>Modified residue (2); Peptide (1)</td>\n",
       "    </tr>\n",
       "    <tr>\n",
       "      <th>2</th>\n",
       "      <td>Q9PS08</td>\n",
       "      <td>reviewed</td>\n",
       "      <td>Dendrotoxin A (DTX-A) (Fasciculin) (Fragment)</td>\n",
       "      <td>Dendroaspis angusticeps (Eastern green mamba) ...</td>\n",
       "      <td>30</td>\n",
       "      <td>Direct protein sequencing;Disulfide bond;Ion c...</td>\n",
       "      <td>TMCYSHTTTSRAILTNCGENSCYRKSRVHP</td>\n",
       "      <td>Chain (1); Disulfide bond (1); Non-terminal re...</td>\n",
       "    </tr>\n",
       "    <tr>\n",
       "      <th>3</th>\n",
       "      <td>P12343</td>\n",
       "      <td>reviewed</td>\n",
       "      <td>Aspartate aminotransferase, cytoplasmic (cAspA...</td>\n",
       "      <td>Oryctolagus cuniculus (Rabbit)</td>\n",
       "      <td>31</td>\n",
       "      <td>Amino-acid biosynthesis;Aminotransferase;Cytop...</td>\n",
       "      <td>MAPPSIFAEVPQAQPVLVFKLTADFREDPDP</td>\n",
       "      <td>Chain (1); Initiator methionine (1); Non-termi...</td>\n",
       "    </tr>\n",
       "    <tr>\n",
       "      <th>4</th>\n",
       "      <td>P0C1H0</td>\n",
       "      <td>reviewed</td>\n",
       "      <td>Equinatoxin-1 (DELTA-actitoxin) (Equinatoxin I...</td>\n",
       "      <td>Actinia equina (Beadlet anemone)</td>\n",
       "      <td>20</td>\n",
       "      <td>Cytolysis;Direct protein sequencing;Hemolysis;...</td>\n",
       "      <td>SVAVAGAVIEGASLTFNVLQ</td>\n",
       "      <td>Non-terminal residue (1); Peptide (1); Region (2)</td>\n",
       "    </tr>\n",
       "  </tbody>\n",
       "</table>\n",
       "</div>"
      ],
      "text/plain": [
       "    Entry    Status                                      Protein names  \\\n",
       "0  P0C2L1  reviewed  Dermonecrotic toxin LlSicTox-alphaIII-1 (EC 4....   \n",
       "1  P67786  reviewed                 Adipokinetic hormone (AKH) (RO II)   \n",
       "2  Q9PS08  reviewed      Dendrotoxin A (DTX-A) (Fasciculin) (Fragment)   \n",
       "3  P12343  reviewed  Aspartate aminotransferase, cytoplasmic (cAspA...   \n",
       "4  P0C1H0  reviewed  Equinatoxin-1 (DELTA-actitoxin) (Equinatoxin I...   \n",
       "\n",
       "                                            Organism  Length  \\\n",
       "0  Loxosceles laeta (South American recluse spide...      30   \n",
       "1  Romalea microptera (Eastern lubber grasshopper...       8   \n",
       "2  Dendroaspis angusticeps (Eastern green mamba) ...      30   \n",
       "3                     Oryctolagus cuniculus (Rabbit)      31   \n",
       "4                   Actinia equina (Beadlet anemone)      20   \n",
       "\n",
       "                                            Keywords  \\\n",
       "0  Cytolysis;Dermonecrotic toxin;Direct protein s...   \n",
       "1  Amidation;Direct protein sequencing;Flight;Hor...   \n",
       "2  Direct protein sequencing;Disulfide bond;Ion c...   \n",
       "3  Amino-acid biosynthesis;Aminotransferase;Cytop...   \n",
       "4  Cytolysis;Direct protein sequencing;Hemolysis;...   \n",
       "\n",
       "                          Sequence  \\\n",
       "0   ADNRRPIWNLGHMVNALKQIPTFLXDGANA   \n",
       "1                         QVNFSTGW   \n",
       "2   TMCYSHTTTSRAILTNCGENSCYRKSRVHP   \n",
       "3  MAPPSIFAEVPQAQPVLVFKLTADFREDPDP   \n",
       "4             SVAVAGAVIEGASLTFNVLQ   \n",
       "\n",
       "                                            Features  \n",
       "0  Active site (1); Chain (1); Non-terminal resid...  \n",
       "1                  Modified residue (2); Peptide (1)  \n",
       "2  Chain (1); Disulfide bond (1); Non-terminal re...  \n",
       "3  Chain (1); Initiator methionine (1); Non-termi...  \n",
       "4  Non-terminal residue (1); Peptide (1); Region (2)  "
      ]
     },
     "metadata": {},
     "output_type": "display_data"
    }
   ],
   "source": [
    "# 1. 加载数据\n",
    "file_path = '../data/raw/neg.csv'\n",
    "data = pd.read_csv(file_path)\n",
    "\n",
    "# 2. 数据概况\n",
    "print(\"数据前几行：\")\n",
    "display(data.head())  # 显示前几行"
   ]
  },
  {
   "cell_type": "code",
   "execution_count": 4,
   "metadata": {},
   "outputs": [
    {
     "name": "stdout",
     "output_type": "stream",
     "text": [
      "数据基本信息：\n",
      "<class 'pandas.core.frame.DataFrame'>\n",
      "RangeIndex: 8556 entries, 0 to 8555\n",
      "Data columns (total 8 columns):\n",
      " #   Column         Non-Null Count  Dtype \n",
      "---  ------         --------------  ----- \n",
      " 0   Entry          8556 non-null   object\n",
      " 1   Status         8556 non-null   object\n",
      " 2   Protein names  8556 non-null   object\n",
      " 3   Organism       8556 non-null   object\n",
      " 4   Length         8556 non-null   int64 \n",
      " 5   Keywords       8455 non-null   object\n",
      " 6   Sequence       8556 non-null   object\n",
      " 7   Features       8556 non-null   object\n",
      "dtypes: int64(1), object(7)\n",
      "memory usage: 534.9+ KB\n"
     ]
    }
   ],
   "source": [
    "print(\"数据基本信息：\")\n",
    "data_info = data.info()  # 显示数据类型、非空值等信息"
   ]
  },
  {
   "cell_type": "code",
   "execution_count": 5,
   "metadata": {},
   "outputs": [
    {
     "name": "stdout",
     "output_type": "stream",
     "text": [
      "缺失值分析：\n",
      "Entry              0\n",
      "Status             0\n",
      "Protein names      0\n",
      "Organism           0\n",
      "Length             0\n",
      "Keywords         101\n",
      "Sequence           0\n",
      "Features           0\n",
      "dtype: int64\n"
     ]
    }
   ],
   "source": [
    "# 3. 缺失值分析\n",
    "print(\"缺失值分析：\")\n",
    "missing_data = data.isnull().sum()  # 统计每列的缺失值数量\n",
    "print(missing_data)"
   ]
  },
  {
   "cell_type": "code",
   "execution_count": 6,
   "metadata": {},
   "outputs": [
    {
     "name": "stdout",
     "output_type": "stream",
     "text": [
      "数据的统计描述：\n"
     ]
    },
    {
     "data": {
      "text/html": [
       "<div>\n",
       "<style scoped>\n",
       "    .dataframe tbody tr th:only-of-type {\n",
       "        vertical-align: middle;\n",
       "    }\n",
       "\n",
       "    .dataframe tbody tr th {\n",
       "        vertical-align: top;\n",
       "    }\n",
       "\n",
       "    .dataframe thead th {\n",
       "        text-align: right;\n",
       "    }\n",
       "</style>\n",
       "<table border=\"1\" class=\"dataframe\">\n",
       "  <thead>\n",
       "    <tr style=\"text-align: right;\">\n",
       "      <th></th>\n",
       "      <th>Length</th>\n",
       "    </tr>\n",
       "  </thead>\n",
       "  <tbody>\n",
       "    <tr>\n",
       "      <th>count</th>\n",
       "      <td>8556.000000</td>\n",
       "    </tr>\n",
       "    <tr>\n",
       "      <th>mean</th>\n",
       "      <td>25.168887</td>\n",
       "    </tr>\n",
       "    <tr>\n",
       "      <th>std</th>\n",
       "      <td>11.024466</td>\n",
       "    </tr>\n",
       "    <tr>\n",
       "      <th>min</th>\n",
       "      <td>2.000000</td>\n",
       "    </tr>\n",
       "    <tr>\n",
       "      <th>25%</th>\n",
       "      <td>14.000000</td>\n",
       "    </tr>\n",
       "    <tr>\n",
       "      <th>50%</th>\n",
       "      <td>28.000000</td>\n",
       "    </tr>\n",
       "    <tr>\n",
       "      <th>75%</th>\n",
       "      <td>36.000000</td>\n",
       "    </tr>\n",
       "    <tr>\n",
       "      <th>max</th>\n",
       "      <td>40.000000</td>\n",
       "    </tr>\n",
       "  </tbody>\n",
       "</table>\n",
       "</div>"
      ],
      "text/plain": [
       "            Length\n",
       "count  8556.000000\n",
       "mean     25.168887\n",
       "std      11.024466\n",
       "min       2.000000\n",
       "25%      14.000000\n",
       "50%      28.000000\n",
       "75%      36.000000\n",
       "max      40.000000"
      ]
     },
     "metadata": {},
     "output_type": "display_data"
    }
   ],
   "source": [
    "# 4. 描述性统计\n",
    "print(\"数据的统计描述：\")\n",
    "data_description = data.describe()  # 获取数值型数据的统计描述\n",
    "display(data_description)"
   ]
  },
  {
   "cell_type": "markdown",
   "metadata": {},
   "source": [
    "# 数据可视化"
   ]
  },
  {
   "cell_type": "code",
   "execution_count": 7,
   "metadata": {},
   "outputs": [],
   "source": [
    "import matplotlib\n",
    "import matplotlib.pyplot as plt\n",
    "import seaborn as sns\n",
    "\n",
    "matplotlib.rc(\"font\", family=\"Arial\")"
   ]
  },
  {
   "cell_type": "code",
   "execution_count": 8,
   "metadata": {},
   "outputs": [
    {
     "data": {
      "image/png": "[encoded data removed]",
      "text/plain": [
       "<Figure size 800x500 with 1 Axes>"
      ]
     },
     "metadata": {},
     "output_type": "display_data"
    }
   ],
   "source": [
    "# 1. 数值列分布（如 Length）\n",
    "plt.figure(figsize=(8, 5))\n",
    "sns.histplot(data['Length'], bins=30, kde=True, color='steelblue')\n",
    "plt.title(\"Histogram of Length Distribution\", fontsize=14)\n",
    "plt.xlabel(\"Length\")\n",
    "plt.ylabel(\"Frequency\")\n",
    "plt.show()"
   ]
  }
 ],
 "metadata": {
  "kernelspec": {
   "display_name": "smep",
   "language": "python",
   "name": "python3"
  },
  "language_info": {
   "codemirror_mode": {
    "name": "ipython",
    "version": 3
   },
   "file_extension": ".py",
   "mimetype": "text/x-python",
   "name": "python",
   "nbconvert_exporter": "python",
   "pygments_lexer": "ipython3",
   "version": "3.10.16"
  }
 },
 "nbformat": 4,
 "nbformat_minor": 2
}
